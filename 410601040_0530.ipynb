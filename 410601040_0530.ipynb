{
  "nbformat": 4,
  "nbformat_minor": 0,
  "metadata": {
    "colab": {
      "name": "410601040/0530.ipynb",
      "provenance": [],
      "collapsed_sections": [],
      "authorship_tag": "ABX9TyPK2g8pqaiRr4Bi2XtokeXL",
      "include_colab_link": true
    },
    "kernelspec": {
      "name": "python3",
      "display_name": "Python 3"
    },
    "language_info": {
      "name": "python"
    }
  },
  "cells": [
    {
      "cell_type": "markdown",
      "metadata": {
        "id": "view-in-github",
        "colab_type": "text"
      },
      "source": [
        "<a href=\"https://colab.research.google.com/github/410601040/Introduction-to-Computers/blob/main/410601040_0530.ipynb\" target=\"_parent\"><img src=\"https://colab.research.google.com/assets/colab-badge.svg\" alt=\"Open In Colab\"/></a>"
      ]
    },
    {
      "cell_type": "code",
      "source": [
        "a = int(input(\"請輸入a的值：\"))\n",
        "b = int(input(\"請輸入b的值：\"))\n",
        "\n",
        "for i in range(1,(a*b)+1):\n",
        "    if (i % a == 0 and i % b == 0):\n",
        "      break\n",
        "print(\"最小公倍數＝ %d\" % (i))      \n"
      ],
      "metadata": {
        "colab": {
          "base_uri": "https://localhost:8080/"
        },
        "id": "w3KEyIaSFb0p",
        "outputId": "66418913-7a48-4afe-b41f-b357e4aad007"
      },
      "execution_count": 5,
      "outputs": [
        {
          "output_type": "stream",
          "name": "stdout",
          "text": [
            "請輸入a的值：3\n",
            "請輸入b的值：4\n",
            "最小公倍數＝ 12\n"
          ]
        }
      ]
    },
    {
      "cell_type": "code",
      "execution_count": 1,
      "metadata": {
        "colab": {
          "base_uri": "https://localhost:8080/"
        },
        "id": "mEVHlE2bDqcI",
        "outputId": "1dcf9fdc-adc2-4b06-f631-e757b5f2fcfe"
      },
      "outputs": [
        {
          "output_type": "stream",
          "name": "stdout",
          "text": [
            "1 * 1 = 1\t1 * 2 = 2\t1 * 3 = 3\t1 * 4 = 4\t1 * 5 = 5\t1 * 6 = 6\t1 * 7 = 7\t1 * 8 = 8\t1 * 9 = 9\t\n",
            "2 * 1 = 2\t2 * 2 = 4\t2 * 3 = 6\t2 * 4 = 8\t2 * 5 = 10\t2 * 6 = 12\t2 * 7 = 14\t2 * 8 = 16\t2 * 9 = 18\t\n",
            "3 * 1 = 3\t3 * 2 = 6\t3 * 3 = 9\t3 * 4 = 12\t3 * 5 = 15\t3 * 6 = 18\t3 * 7 = 21\t3 * 8 = 24\t3 * 9 = 27\t\n",
            "4 * 1 = 4\t4 * 2 = 8\t4 * 3 = 12\t4 * 4 = 16\t4 * 5 = 20\t4 * 6 = 24\t4 * 7 = 28\t4 * 8 = 32\t4 * 9 = 36\t\n",
            "5 * 1 = 5\t5 * 2 = 10\t5 * 3 = 15\t5 * 4 = 20\t5 * 5 = 25\t5 * 6 = 30\t5 * 7 = 35\t5 * 8 = 40\t5 * 9 = 45\t\n",
            "6 * 1 = 6\t6 * 2 = 12\t6 * 3 = 18\t6 * 4 = 24\t6 * 5 = 30\t6 * 6 = 36\t6 * 7 = 42\t6 * 8 = 48\t6 * 9 = 54\t\n",
            "7 * 1 = 7\t7 * 2 = 14\t7 * 3 = 21\t7 * 4 = 28\t7 * 5 = 35\t7 * 6 = 42\t7 * 7 = 49\t7 * 8 = 56\t7 * 9 = 63\t\n",
            "8 * 1 = 8\t8 * 2 = 16\t8 * 3 = 24\t8 * 4 = 32\t8 * 5 = 40\t8 * 6 = 48\t8 * 7 = 56\t8 * 8 = 64\t8 * 9 = 72\t\n",
            "9 * 1 = 9\t9 * 2 = 18\t9 * 3 = 27\t9 * 4 = 36\t9 * 5 = 45\t9 * 6 = 54\t9 * 7 = 63\t9 * 8 = 72\t9 * 9 = 81\t\n"
          ]
        }
      ],
      "source": [
        "for j in range(1,10):\n",
        "    for i in range(1,10):\n",
        "       k=i*j\n",
        "       print(j,\"*\",i,\"=\",k,end='\\t')\n",
        "    print()  \n",
        "  "
      ]
    },
    {
      "cell_type": "code",
      "source": [
        "a = int(input(\"請輸入a的值\"))\n",
        "b = int(input(\"請輸入b的值\"))\n",
        "\n",
        "maxno = a * b\n",
        "for i in range(1,maxno+1):\n",
        "    if(i % a == 0 and i % b == 0):\n",
        "         break\n",
        "print(\"%d和 %d的最小公倍數 = %d \" %(a,b,i))\n"
      ],
      "metadata": {
        "colab": {
          "base_uri": "https://localhost:8080/"
        },
        "id": "Q7vXjL07D4aR",
        "outputId": "56b79c2e-fa70-481b-ad9c-69ff756a8fa9"
      },
      "execution_count": 6,
      "outputs": [
        {
          "output_type": "stream",
          "name": "stdout",
          "text": [
            "請輸入a的值4\n",
            "請輸入b的值6\n",
            "4和 6的最小公倍數 = 12 \n"
          ]
        }
      ]
    },
    {
      "cell_type": "code",
      "source": [
        "n = int(input(\"請輸入正整數\"))\n",
        "for i in range(1,n+1):\n",
        "    if i % 5 == 0:\n",
        "       continue\n",
        "    print(i, end=\" \")   \n"
      ],
      "metadata": {
        "colab": {
          "base_uri": "https://localhost:8080/"
        },
        "id": "eUSG-RVKGdnd",
        "outputId": "9cb87b26-d1fc-45e9-94a8-9eec211836b2"
      },
      "execution_count": 8,
      "outputs": [
        {
          "output_type": "stream",
          "name": "stdout",
          "text": [
            "請輸入正整數21\n",
            "1 2 3 4 6 7 8 9 11 12 13 14 16 17 18 19 21 "
          ]
        }
      ]
    },
    {
      "cell_type": "code",
      "source": [
        "total = n = 0\n",
        "while(n<= 10):\n",
        "    total += n\n",
        "    n += 1\n",
        "print(total)\n"
      ],
      "metadata": {
        "colab": {
          "base_uri": "https://localhost:8080/"
        },
        "id": "Jfmcjc4hItU6",
        "outputId": "fc508975-6d09-4cd7-cdda-78a371c4af34"
      },
      "execution_count": 9,
      "outputs": [
        {
          "output_type": "stream",
          "name": "stdout",
          "text": [
            "55\n"
          ]
        }
      ]
    },
    {
      "cell_type": "code",
      "source": [
        "total = n = 0\n",
        "while n<= 10 :\n",
        "    total += n\n",
        "    n += 1\n",
        "print(total)\n"
      ],
      "metadata": {
        "colab": {
          "base_uri": "https://localhost:8080/"
        },
        "id": "s70yVpakJHgK",
        "outputId": "69afa53d-780d-46a9-cfad-99f8a29c46bc"
      },
      "execution_count": 10,
      "outputs": [
        {
          "output_type": "stream",
          "name": "stdout",
          "text": [
            "55\n"
          ]
        }
      ]
    },
    {
      "cell_type": "code",
      "source": [
        "total = i = 1\n",
        "n = int(input(\"請輸入正整數n的值: \"))\n",
        "while i<= n :\n",
        "    total *= i\n",
        "    i+= 1\n",
        "\n",
        "print(\"%d!=%d\" % (n, total))\n"
      ],
      "metadata": {
        "colab": {
          "base_uri": "https://localhost:8080/"
        },
        "id": "ADCDAOsGKFj0",
        "outputId": "edc0bbfe-c059-41a8-ab7d-55d5c3b981c0"
      },
      "execution_count": 14,
      "outputs": [
        {
          "output_type": "stream",
          "name": "stdout",
          "text": [
            "請輸入正整數n的值: 100\n",
            "100!=93326215443944152681699238856266700490715968264381621468592963895217599993229915608941463976156518286253697920827223758251185210916864000000000000000000000000\n"
          ]
        }
      ]
    },
    {
      "cell_type": "code",
      "source": [
        "sum = 0\n",
        "n = int(input(\"請輸入正整數\"))\n",
        "for i in range (2,n+1,2):\n",
        "        sum += i\n",
        "print(\"1到%d的偶數和為 %d\"%(n,sum))\n"
      ],
      "metadata": {
        "colab": {
          "base_uri": "https://localhost:8080/"
        },
        "id": "TBzFVJKxM7Er",
        "outputId": "33a56070-6157-49a1-84fe-de193c0cee29"
      },
      "execution_count": 21,
      "outputs": [
        {
          "output_type": "stream",
          "name": "stdout",
          "text": [
            "請輸入正整數50\n",
            "1到50的偶數和為 650\n"
          ]
        }
      ]
    },
    {
      "cell_type": "code",
      "source": [
        "sum = 0\n",
        "n = int(input(\"請輸入正整數\"))\n",
        "for i in range (1,n+1,2):\n",
        "        sum += i\n",
        "print(\"1到%d的奇數和為 %d\"%(n,sum))"
      ],
      "metadata": {
        "colab": {
          "base_uri": "https://localhost:8080/"
        },
        "id": "-KtRz_g6QUWW",
        "outputId": "fecef7b7-0578-4300-b85d-3e06e5f8d799"
      },
      "execution_count": 23,
      "outputs": [
        {
          "output_type": "stream",
          "name": "stdout",
          "text": [
            "請輸入正整數50\n",
            "1到50的奇數和為 625\n"
          ]
        }
      ]
    },
    {
      "cell_type": "code",
      "source": [
        "n = int(input(\"請輸入正整數\"))\n",
        "for i in range(n):\n",
        "    print((n-i)*'*')"
      ],
      "metadata": {
        "colab": {
          "base_uri": "https://localhost:8080/"
        },
        "id": "kYgkPQX3V_6j",
        "outputId": "070f9933-ac36-434a-b2a6-348471ef42f5"
      },
      "execution_count": 33,
      "outputs": [
        {
          "output_type": "stream",
          "name": "stdout",
          "text": [
            "請輸入正整數7\n",
            "*******\n",
            "******\n",
            "*****\n",
            "****\n",
            "***\n",
            "**\n",
            "*\n"
          ]
        }
      ]
    },
    {
      "cell_type": "code",
      "source": [
        "n = int(input(\"請輸入正整數\"))\n",
        "for i in range(n):\n",
        "    print((n-i)*'*')"
      ],
      "metadata": {
        "colab": {
          "base_uri": "https://localhost:8080/"
        },
        "id": "oQQM50czWLtE",
        "outputId": "9b32c2a6-26aa-43d9-8a4a-8eaa8d68fd16"
      },
      "execution_count": 34,
      "outputs": [
        {
          "output_type": "stream",
          "name": "stdout",
          "text": [
            "請輸入正整數5\n",
            "*****\n",
            "****\n",
            "***\n",
            "**\n",
            "*\n"
          ]
        }
      ]
    },
    {
      "cell_type": "code",
      "source": [
        "sum = 0\n",
        "n = int(input(\"請輸入正整數\"))\n",
        "for i in range(1, n+1):\n",
        "    if i % 3==0 or i % 7 ==0:\n",
        "        sum += i\n",
        "print(\"1到 %d中3或7的倍數總和 %d\"%(n,sum))"
      ],
      "metadata": {
        "colab": {
          "base_uri": "https://localhost:8080/"
        },
        "id": "I91vATERSJfn",
        "outputId": "ab9f4e61-b63d-406f-ae26-37e60c3cecd4"
      },
      "execution_count": 25,
      "outputs": [
        {
          "output_type": "stream",
          "name": "stdout",
          "text": [
            "請輸入正整數100\n",
            "1到 100中3或7的倍數總和 2208\n"
          ]
        }
      ]
    },
    {
      "cell_type": "code",
      "source": [
        "num = []\n",
        "n = int(input(\"請輸入正整數\"))\n",
        "for i in range(1,n+1):\n",
        "           if n % i  == 0:\n",
        "              num.append(i)\n",
        "print(n,\"的因數有\" ,num)\n",
        "       \n",
        "\n",
        "\n",
        "  \n",
        "if n > 1:\n",
        "    for i in range(2, int(n/2)+1):\n",
        "         if (n % i) == 0:\n",
        "            print(\"這不是質數\")\n",
        "            break\n",
        "    else:\n",
        "        print(\"這是質數\")\n",
        "\n",
        "else:\n",
        "    print(\"I這不是質數\")"
      ],
      "metadata": {
        "colab": {
          "base_uri": "https://localhost:8080/"
        },
        "id": "38q7LuR-aA1C",
        "outputId": "bed07ca7-4f51-4e14-bf09-47536a413693"
      },
      "execution_count": 49,
      "outputs": [
        {
          "output_type": "stream",
          "name": "stdout",
          "text": [
            "請輸入正整數11\n",
            "11 的因數有 [1, 11]\n",
            "這是質數\n"
          ]
        }
      ]
    },
    {
      "cell_type": "code",
      "source": [
        "num = []\n",
        "n = int(input(\"請輸入正整數\"))\n",
        "for i in range(1,n+1):\n",
        "           if n % i  == 0:\n",
        "              num.append(i)\n",
        "print(n,\"的因數有\" ,num)\n",
        "       \n",
        "\n",
        "\n",
        "  \n",
        "if n > 1:\n",
        "    for i in range(2, int(n/2)+1):\n",
        "         if (n % i) == 0:\n",
        "            print(\"這不是質數\")\n",
        "            break\n",
        "    else:\n",
        "        print(\"這是質數\")\n",
        "\n",
        "else:\n",
        "    print(\"I這不是質數\")"
      ],
      "metadata": {
        "colab": {
          "base_uri": "https://localhost:8080/"
        },
        "id": "l5aXpKePcSDo",
        "outputId": "d5ae3814-4ee7-453d-f62c-fa3fc5cc209c"
      },
      "execution_count": 50,
      "outputs": [
        {
          "output_type": "stream",
          "name": "stdout",
          "text": [
            "請輸入正整數12\n",
            "12 的因數有 [1, 2, 3, 4, 6, 12]\n",
            "這不是質數\n"
          ]
        }
      ]
    }
  ]
}