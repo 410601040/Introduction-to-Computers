{
  "nbformat": 4,
  "nbformat_minor": 0,
  "metadata": {
    "colab": {
      "name": "410601040謝宜臻.ipynb",
      "provenance": [],
      "authorship_tag": "ABX9TyO5KYkFfSNFo+nS8O3NHf5t",
      "include_colab_link": true
    },
    "kernelspec": {
      "name": "python3",
      "display_name": "Python 3"
    },
    "language_info": {
      "name": "python"
    }
  },
  "cells": [
    {
      "cell_type": "markdown",
      "metadata": {
        "id": "view-in-github",
        "colab_type": "text"
      },
      "source": [
        "<a href=\"https://colab.research.google.com/github/410601040/Introduction-to-Computers/blob/main/410601040%E8%AC%9D%E5%AE%9C%E8%87%BB.ipynb\" target=\"_parent\"><img src=\"https://colab.research.google.com/assets/colab-badge.svg\" alt=\"Open In Colab\"/></a>"
      ]
    },
    {
      "cell_type": "code",
      "execution_count": 1,
      "metadata": {
        "colab": {
          "base_uri": "https://localhost:8080/"
        },
        "id": "VsbWArkdJ8Og",
        "outputId": "84b0fc28-94c2-4771-a3e5-23348447426e"
      },
      "outputs": [
        {
          "output_type": "stream",
          "name": "stdout",
          "text": [
            "國文成績 85 分\n",
            "數學成績 79 分\n",
            "英文成績 93 分\n"
          ]
        }
      ],
      "source": [
        "j = 0\n",
        "b =  \"國文成績\"\n",
        "c =  \"數學成績\"\n",
        "d =  \"英文成績\"\n",
        "scores = [85,79,93]\n",
        "sub = [b,c,d]\n",
        "for i in range(len(scores)):\n",
        "    print(sub[j],scores[i],\"分\")\n",
        "    j+=1"
      ]
    },
    {
      "cell_type": "code",
      "source": [
        "j = 0\n",
        "b =  \"Tom\"\n",
        "c =  \"Mary\"\n",
        "d =  \"Tony\"\n",
        "num = [1,2,3]\n",
        "name = [b,c,d]\n",
        "for i in range(len(name)):\n",
        "    print(\"編號：\",num[j],\"姓名：\",name[i])\n",
        "    j+=1"
      ],
      "metadata": {
        "colab": {
          "base_uri": "https://localhost:8080/"
        },
        "id": "nti2-bjrLfVi",
        "outputId": "7c8c6bdb-9c32-463d-9b7d-376e19d227db"
      },
      "execution_count": 7,
      "outputs": [
        {
          "output_type": "stream",
          "name": "stdout",
          "text": [
            "編號： 1 姓名： Tom\n",
            "編號： 2 姓名： Mary\n",
            "編號： 3 姓名： Tony\n"
          ]
        }
      ]
    }
  ]
}